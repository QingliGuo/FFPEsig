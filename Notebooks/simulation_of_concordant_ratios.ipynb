{
 "cells": [
  {
   "cell_type": "code",
   "execution_count": 1,
   "metadata": {},
   "outputs": [],
   "source": [
    "from setup import *"
   ]
  },
  {
   "cell_type": "markdown",
   "metadata": {},
   "source": [
    "# Simulation of sequencing artefacts from DNA templates"
   ]
  },
  {
   "cell_type": "markdown",
   "metadata": {},
   "source": [
    "## simulation function"
   ]
  },
  {
   "cell_type": "code",
   "execution_count": 2,
   "metadata": {},
   "outputs": [],
   "source": [
    "def simulate_artefacts_with_diff_concordant_ratios (candidate_sites, initial_hits_perc, seq_chance, rand_seed):\n",
    "    np.random.seed(rand_seed) \n",
    "    \n",
    "    ## simulate total deamination events, and the initial chance of being deaminated is the same for both types of cytosines:\n",
    "    total_hits_num = int(candidate_sites * initial_hits_perc)    ## total deaminated sites among all candidates\n",
    "    \n",
    "    hit_sets_s1 = random.sample(range(candidate_sites), total_hits_num)    ## randomly assign the total deaminated events for all candidates in sample 1\n",
    "    hit_sets_s2 = random.sample(range(candidate_sites), total_hits_num)    ## randomly assign the total deaminated events for all candidates in sample 2\n",
    "\n",
    "    ## simulate the sequencing process, assuming uracial-containing templates are more likely degraded and also not being favoured during PCR \n",
    "    seq_hits_num = int(total_hits_num * seq_chance)    ## total deaminated events would be sequenced\n",
    "    \n",
    "    hits_s1_seq = hit_sets_s1[:seq_hits_num]    ## we took the actual-sequenced hits out from sample 1\n",
    "    hits_s2_seq = hit_sets_s2[:seq_hits_num]    ## we took the actual-sequenced hits out from sample 2\n",
    "\n",
    "    concordant_hits_s1_s2 = len(np.intersect1d(hits_s1_seq, hits_s2_seq))    ## checking the concordant hits between the sequenced ones. the numerator \n",
    "\n",
    "    total_hits_s1_s2 = len(set(list(hits_s1_seq)+list(hits_s2_seq)))    ## checking the total intersection of artefacts observed in s1 and s2. the denonamitor\n",
    "    \n",
    "    return (concordant_hits_s1_s2, total_hits_s1_s2, concordant_hits_s1_s2/total_hits_s1_s2)    ## return the abosolute num and concordant ratio back"
   ]
  },
  {
   "cell_type": "markdown",
   "metadata": {},
   "source": [
    "## Channel index"
   ]
  },
  {
   "cell_type": "code",
   "execution_count": 3,
   "metadata": {},
   "outputs": [],
   "source": [
    "## channel index \n",
    "C2T_CpG_ind = []\n",
    "C2T_nonCpG_ind = []\n",
    "\n",
    "for c in channels:\n",
    "    c1,c2 = c.split(\"@\")\n",
    "    C2T_CpG_ind.append(c1 == \"C>T\" and c2[1:] == \"CG\")\n",
    "    C2T_nonCpG_ind.append(c1 == \"C>T\" and c2[1:] != \"CG\")\n",
    "\n",
    "## unrepaired sig (CpG and nonCpG distribution)\n",
    "\n",
    "CpG_props_unrepaired = ffpe_sig_unrepaired[C2T_CpG_ind]\n",
    "norm_CpG_props_unrepaired = CpG_props_unrepaired/sum(CpG_props_unrepaired)\n",
    "\n",
    "nonCpG_props_unrepaired = ffpe_sig_unrepaired[C2T_nonCpG_ind]\n",
    "norm_nonCpG_props_unrepaired = nonCpG_props_unrepaired/sum(nonCpG_props_unrepaired)\n",
    "\n",
    "## repaired sig (CpG and nonCpG distribution)\n",
    "CpG_props_repaired = ffpe_sig_repaired[C2T_CpG_ind]\n",
    "norm_CpG_props_repaired = CpG_props_repaired/sum(CpG_props_repaired)\n",
    "\n",
    "nonCpG_props_repaired = ffpe_sig_repaired[C2T_nonCpG_ind]\n",
    "norm_nonCpG_props_repaired = nonCpG_props_repaired/sum(nonCpG_props_repaired)\n",
    "\n",
    "## Normalisation\n",
    "def transfer_sig(from_sig, from_opp, to_opp = wgs_opp):\n",
    "    to_sig = from_sig / from_opp * to_opp\n",
    "    to_sig = to_sig / np.sum(to_sig)\n",
    "    return (to_sig)"
   ]
  },
  {
   "cell_type": "markdown",
   "metadata": {},
   "source": [
    "## General facts for simulation setup"
   ]
  },
  {
   "cell_type": "code",
   "execution_count": 4,
   "metadata": {},
   "outputs": [
    {
     "name": "stdout",
     "output_type": "stream",
     "text": [
      "Total cytosine number = 31344, CpG sites = 3025, nonCpG sites = 28318\n"
     ]
    }
   ],
   "source": [
    "cytosine_sites = 31344     ## Total cytosine sites based the targeted gene opportunity matrix (Fig S5a)\n",
    "\n",
    "CpG_opp = opportunity_TargetCRC[C2T_CpG_ind].sum()/(opportunity_TargetCRC[C2T_nonCpG_ind].sum() + opportunity_TargetCRC[C2T_CpG_ind].sum())\n",
    "\n",
    "CpG_sites_num = cytosine_sites * CpG_opp * 0.75  ## 5mC numbers (0.75 is the mean of methylation rate (70-80%))\n",
    "\n",
    "non_CpG_sites_num = cytosine_sites - CpG_sites_num ## non-5mC numbers\n",
    "\n",
    "initial_deaminated_perc = 0.45 ## same for CpG_sites and nonCpG sites.\n",
    "\n",
    "print (f\"Total cytosine number = {int(cytosine_sites)}, CpG sites = {int(CpG_sites_num)}, nonCpG sites = {int(non_CpG_sites_num)}\")"
   ]
  },
  {
   "cell_type": "markdown",
   "metadata": {},
   "source": [
    "# Simulate unrepaired samples"
   ]
  },
  {
   "cell_type": "markdown",
   "metadata": {},
   "source": [
    "## With sampling bias"
   ]
  },
  {
   "cell_type": "code",
   "execution_count": 5,
   "metadata": {
    "tags": []
   },
   "outputs": [],
   "source": [
    "simulated_unrepaired_biased = pd.DataFrame()\n",
    "\n",
    "cs_to_repaired_sig_biased = []\n",
    "cs_to_unrepaired_sig_biased = []\n",
    "\n",
    "concordant_ratios_nonCpG_biased = []\n",
    "concordant_ratios_CpG_biased = []\n",
    "\n",
    "for i in range(100):\n",
    "    sample_id = 's' + str(i)\n",
    "    np.random.seed (i)\n",
    "    concordant_mut_num_nonCpG, total_mut_num_nonCpG, concordant_ratio_nonCpG= simulate_artefacts_with_diff_concordant_ratios(candidate_sites = int(non_CpG_sites_num), \n",
    "                                                                                initial_hits_perc = initial_deaminated_perc, \n",
    "                                                                                seq_chance = np.random.uniform(0.3,0.4), ## non-CpG templates are not favoured\n",
    "                                                                                rand_seed = i)\n",
    "\n",
    "    concordant_mut_num_CpG, total_mut_num_CpG, concordant_ratio_CpG = simulate_artefacts_with_diff_concordant_ratios(candidate_sites = int(CpG_sites_num), \n",
    "                                                                                initial_hits_perc = initial_deaminated_perc, \n",
    "                                                                                seq_chance = np.random.uniform(0.85,0.95), ## CpG templates are favoured\n",
    "                                                                                rand_seed = i)\n",
    "\n",
    "    mut_profile_of_given_sample =  np.zeros (96)\n",
    "    mut_profile_of_given_sample [C2T_CpG_ind]= norm_CpG_props_unrepaired * int(total_mut_num_CpG/2)\n",
    "    mut_profile_of_given_sample [C2T_nonCpG_ind]= norm_nonCpG_props_unrepaired * int(total_mut_num_nonCpG/2)\n",
    "    simulated_unrepaired_biased[sample_id] = np.random.poisson(mut_profile_of_given_sample)\n",
    "    \n",
    "    concordant_mut_profile = np.zeros (96)\n",
    "    concordant_mut_profile[C2T_CpG_ind] = norm_CpG_props_unrepaired * int(concordant_mut_num_CpG/2)\n",
    "    concordant_mut_profile[C2T_nonCpG_ind] = norm_nonCpG_props_unrepaired * int(concordant_mut_num_nonCpG/2)\n",
    "    \n",
    "    cs_to_repaired_sig_biased.append(cosine_similarity(ffpe_sig_repaired.reshape(1,96), concordant_mut_profile.reshape(1,96))[0][0])\n",
    "    cs_to_unrepaired_sig_biased.append(cosine_similarity(ffpe_sig_unrepaired.reshape(1,96), concordant_mut_profile.reshape(1,96))[0][0])\n",
    "    \n",
    "    concordant_ratios_nonCpG_biased.append(concordant_ratio_nonCpG)\n",
    "    concordant_ratios_CpG_biased.append(concordant_ratio_CpG)\n",
    "\n",
    "## transfer the mutational probabilities to WGS sequence context:\n",
    "simulated_unrepaired_biased_transferred = simulated_unrepaired_biased.T.apply(lambda row: transfer_sig(\n",
    "                                            from_sig = row,\n",
    "                                            from_opp = np.array (opportunity_TargetCRC), \n",
    "                                            to_opp = wgs_opp), axis = 1)\n",
    "unrepaired_bias_sig = simulated_unrepaired_biased_transferred.mean().values"
   ]
  },
  {
   "cell_type": "markdown",
   "metadata": {},
   "source": [
    "## Without sampling bias"
   ]
  },
  {
   "cell_type": "code",
   "execution_count": 6,
   "metadata": {},
   "outputs": [],
   "source": [
    "initial_deaminated_perc = 0.45 ## same for CpG_sites and nonCpG sites.\n",
    "\n",
    "simulated_unrepaired_unbiased = pd.DataFrame()\n",
    "\n",
    "cs_to_repaired_sig_unbiased = []\n",
    "cs_to_unrepaired_sig_unbiased = []\n",
    "\n",
    "concordant_ratios_nonCpG_unbiased = []\n",
    "concordant_ratios_CpG_unbiased = []\n",
    "\n",
    "for i in range(100):\n",
    "    sample_id = 's' + str(i)\n",
    "    np.random.seed (i)\n",
    "    concordant_mut_num_nonCpG, total_mut_num_nonCpG, concordant_ratio_nonCpG = simulate_artefacts_with_diff_concordant_ratios(candidate_sites = int(non_CpG_sites_num), \n",
    "                                                                                initial_hits_perc = initial_deaminated_perc, \n",
    "                                                                                seq_chance = np.random.uniform(0.45,0.55), ## non-CpG templates are equally favoured\n",
    "                                                                                rand_seed = i)\n",
    "\n",
    "    concordant_mut_num_CpG, total_mut_num_CpG, concordant_ratio_CpG = simulate_artefacts_with_diff_concordant_ratios(candidate_sites = int(CpG_sites_num), \n",
    "                                                                                initial_hits_perc = initial_deaminated_perc, \n",
    "                                                                                seq_chance = np.random.uniform(0.45,0.55), ## non-CpG templates are equally favoured                 \n",
    "                                                                                rand_seed = i)\n",
    "\n",
    "    mut_profile_of_given_sample =  np.zeros (96)\n",
    "    mut_profile_of_given_sample [C2T_CpG_ind]= norm_CpG_props_unrepaired * int(total_mut_num_CpG/2)\n",
    "    mut_profile_of_given_sample [C2T_nonCpG_ind]= norm_nonCpG_props_unrepaired * int(total_mut_num_nonCpG/2)\n",
    "    simulated_unrepaired_unbiased[sample_id] = np.random.poisson(mut_profile_of_given_sample)\n",
    "    \n",
    "    concordant_mut_profile = np.zeros (96)\n",
    "    concordant_mut_profile[C2T_CpG_ind] = norm_CpG_props_unrepaired * int(concordant_mut_num_CpG/2)\n",
    "    concordant_mut_profile[C2T_nonCpG_ind] = norm_nonCpG_props_unrepaired * int(concordant_mut_num_nonCpG/2)\n",
    "    \n",
    "    cs_to_repaired_sig_unbiased.append(cosine_similarity(ffpe_sig_repaired.reshape(1,96), concordant_mut_profile.reshape(1,96))[0][0])\n",
    "    cs_to_unrepaired_sig_unbiased.append(cosine_similarity(ffpe_sig_unrepaired.reshape(1,96), concordant_mut_profile.reshape(1,96))[0][0])\n",
    "    \n",
    "    concordant_ratios_nonCpG_unbiased.append(concordant_ratio_nonCpG)\n",
    "    concordant_ratios_CpG_unbiased.append(concordant_ratio_CpG)\n",
    "    \n",
    "simulated_unrepaired_unbiased_transferred = simulated_unrepaired_unbiased.T.apply(lambda row: transfer_sig(\n",
    "                                            from_sig = row,\n",
    "                                            from_opp = np.array (opportunity_TargetCRC), \n",
    "                                            to_opp = wgs_opp), axis = 1)\n",
    "unrepaired_unbias_sig = simulated_unrepaired_unbiased_transferred.mean().values"
   ]
  },
  {
   "cell_type": "markdown",
   "metadata": {},
   "source": [
    "## Visualise the key information"
   ]
  },
  {
   "cell_type": "code",
   "execution_count": 7,
   "metadata": {},
   "outputs": [
    {
     "data": {
      "text/html": [
       "<div>\n",
       "<style scoped>\n",
       "    .dataframe tbody tr th:only-of-type {\n",
       "        vertical-align: middle;\n",
       "    }\n",
       "\n",
       "    .dataframe tbody tr th {\n",
       "        vertical-align: top;\n",
       "    }\n",
       "\n",
       "    .dataframe thead th {\n",
       "        text-align: right;\n",
       "    }\n",
       "</style>\n",
       "<table border=\"1\" class=\"dataframe\">\n",
       "  <thead>\n",
       "    <tr style=\"text-align: right;\">\n",
       "      <th></th>\n",
       "      <th>sim</th>\n",
       "      <th>ratio</th>\n",
       "      <th>site_info</th>\n",
       "      <th>bias_info</th>\n",
       "      <th>sig_info</th>\n",
       "    </tr>\n",
       "  </thead>\n",
       "  <tbody>\n",
       "    <tr>\n",
       "      <th>0</th>\n",
       "      <td>0.894582</td>\n",
       "      <td>0.247846</td>\n",
       "      <td>CpG</td>\n",
       "      <td>With-bias</td>\n",
       "      <td>Repaired-sig</td>\n",
       "    </tr>\n",
       "    <tr>\n",
       "      <th>1</th>\n",
       "      <td>0.917965</td>\n",
       "      <td>0.260260</td>\n",
       "      <td>CpG</td>\n",
       "      <td>With-bias</td>\n",
       "      <td>Repaired-sig</td>\n",
       "    </tr>\n",
       "    <tr>\n",
       "      <th>2</th>\n",
       "      <td>0.903989</td>\n",
       "      <td>0.264033</td>\n",
       "      <td>CpG</td>\n",
       "      <td>With-bias</td>\n",
       "      <td>Repaired-sig</td>\n",
       "    </tr>\n",
       "    <tr>\n",
       "      <th>3</th>\n",
       "      <td>0.906603</td>\n",
       "      <td>0.256764</td>\n",
       "      <td>CpG</td>\n",
       "      <td>With-bias</td>\n",
       "      <td>Repaired-sig</td>\n",
       "    </tr>\n",
       "    <tr>\n",
       "      <th>4</th>\n",
       "      <td>0.874224</td>\n",
       "      <td>0.272099</td>\n",
       "      <td>CpG</td>\n",
       "      <td>With-bias</td>\n",
       "      <td>Repaired-sig</td>\n",
       "    </tr>\n",
       "  </tbody>\n",
       "</table>\n",
       "</div>"
      ],
      "text/plain": [
       "        sim     ratio site_info  bias_info      sig_info\n",
       "0  0.894582  0.247846       CpG  With-bias  Repaired-sig\n",
       "1  0.917965  0.260260       CpG  With-bias  Repaired-sig\n",
       "2  0.903989  0.264033       CpG  With-bias  Repaired-sig\n",
       "3  0.906603  0.256764       CpG  With-bias  Repaired-sig\n",
       "4  0.874224  0.272099       CpG  With-bias  Repaired-sig"
      ]
     },
     "execution_count": 7,
     "metadata": {},
     "output_type": "execute_result"
    }
   ],
   "source": [
    "## Record the key information from the simulated data (unrepaired-biased)\n",
    "ratio, sim, bias_info, site_info, sig_info = [], [], [], [], []\n",
    "\n",
    "ratio = concordant_ratios_CpG_biased + concordant_ratios_nonCpG_biased + concordant_ratios_CpG_unbiased + concordant_ratios_nonCpG_unbiased\n",
    "sim = cs_to_repaired_sig_biased + cs_to_unrepaired_sig_biased + cs_to_repaired_sig_unbiased + cs_to_unrepaired_sig_unbiased \n",
    "bias_info = ['With-bias'] * 200 + ['Without-bias'] * 200\n",
    "site_info = ['CpG'] * 100 + [\"nonCpG\"] * 100 + ['CpG'] * 100 + [\"nonCpG\"] * 100\n",
    "sig_info = ['Repaired-sig'] * 100 + ['Unrepaired-sig'] * 100 + ['Repaired-sig'] * 100 + ['Unrepaired-sig'] * 100\n",
    "\n",
    "ratio_sim_unrepaired_df = pd.DataFrame()\n",
    "ratio_sim_unrepaired_df['sim'] = sim\n",
    "ratio_sim_unrepaired_df['ratio'] = ratio\n",
    "ratio_sim_unrepaired_df['site_info'] = site_info\n",
    "ratio_sim_unrepaired_df['bias_info'] = bias_info\n",
    "ratio_sim_unrepaired_df['sig_info'] = sig_info\n",
    "\n",
    "ratio_sim_unrepaired_df.head()"
   ]
  },
  {
   "cell_type": "code",
   "execution_count": 8,
   "metadata": {},
   "outputs": [
    {
     "data": {
      "text/html": [
       "<div>\n",
       "<style scoped>\n",
       "    .dataframe tbody tr th:only-of-type {\n",
       "        vertical-align: middle;\n",
       "    }\n",
       "\n",
       "    .dataframe tbody tr th {\n",
       "        vertical-align: top;\n",
       "    }\n",
       "\n",
       "    .dataframe thead th {\n",
       "        text-align: right;\n",
       "    }\n",
       "</style>\n",
       "<table border=\"1\" class=\"dataframe\">\n",
       "  <thead>\n",
       "    <tr style=\"text-align: right;\">\n",
       "      <th></th>\n",
       "      <th></th>\n",
       "      <th>sim</th>\n",
       "      <th>ratio</th>\n",
       "    </tr>\n",
       "    <tr>\n",
       "      <th>bias_info</th>\n",
       "      <th>sig_info</th>\n",
       "      <th></th>\n",
       "      <th></th>\n",
       "    </tr>\n",
       "  </thead>\n",
       "  <tbody>\n",
       "    <tr>\n",
       "      <th rowspan=\"2\" valign=\"top\">With-bias</th>\n",
       "      <th>Repaired-sig</th>\n",
       "      <td>0.906527</td>\n",
       "      <td>0.252408</td>\n",
       "    </tr>\n",
       "    <tr>\n",
       "      <th>Unrepaired-sig</th>\n",
       "      <td>0.708857</td>\n",
       "      <td>0.085202</td>\n",
       "    </tr>\n",
       "    <tr>\n",
       "      <th rowspan=\"2\" valign=\"top\">Without-bias</th>\n",
       "      <th>Repaired-sig</th>\n",
       "      <td>0.441866</td>\n",
       "      <td>0.126130</td>\n",
       "    </tr>\n",
       "    <tr>\n",
       "      <th>Unrepaired-sig</th>\n",
       "      <td>0.996260</td>\n",
       "      <td>0.125633</td>\n",
       "    </tr>\n",
       "  </tbody>\n",
       "</table>\n",
       "</div>"
      ],
      "text/plain": [
       "                                  sim     ratio\n",
       "bias_info    sig_info                          \n",
       "With-bias    Repaired-sig    0.906527  0.252408\n",
       "             Unrepaired-sig  0.708857  0.085202\n",
       "Without-bias Repaired-sig    0.441866  0.126130\n",
       "             Unrepaired-sig  0.996260  0.125633"
      ]
     },
     "execution_count": 8,
     "metadata": {},
     "output_type": "execute_result"
    }
   ],
   "source": [
    "ratio_sim_unrepaired_df.groupby(['bias_info', 'sig_info']).mean()"
   ]
  },
  {
   "cell_type": "code",
   "execution_count": 9,
   "metadata": {},
   "outputs": [
    {
     "data": {
      "image/png": "[encoded data removed]",
      "text/plain": [
       "<Figure size 432x144 with 1 Axes>"
      ]
     },
     "metadata": {},
     "output_type": "display_data"
    }
   ],
   "source": [
    "sns.set(rc={\"figure.figsize\":(6, 2)})\n",
    "sns.set(style=\"whitegrid\", color_codes=True, rc={\"grid.linewidth\": 0.5, 'grid.color': '.7', \n",
    "                                                     'ytick.major.size': 2,\n",
    "                                                     'axes.edgecolor': '.3', 'axes.linewidth': 1.35,})\n",
    "sns.boxenplot(x = 'bias_info', y = 'ratio', data = ratio_sim_unrepaired_df, hue = \"site_info\", palette= \"Set1\")\n",
    "plt.legend (title = \"\", ncol = 1, frameon = False)\n",
    "sns.despine()\n",
    "plt.ylabel (\"Concordant ratio\", fontsize = 10)\n",
    "plt.xlabel (\"\")\n",
    "plt.title(\"Unrepaired FFPEs\")\n",
    "\n",
    "plt.xticks(fontsize = 10)\n",
    "plt.savefig(\"./Figures/Fig_R3a.pdf\", bbox_inches = \"tight\", dpi = 300)\n",
    "plt.show()"
   ]
  },
  {
   "cell_type": "code",
   "execution_count": 10,
   "metadata": {},
   "outputs": [
    {
     "data": {
      "image/png": "[encoded data removed]",
      "text/plain": [
       "<Figure size 432x144 with 1 Axes>"
      ]
     },
     "metadata": {},
     "output_type": "display_data"
    }
   ],
   "source": [
    "sns.set(rc={\"figure.figsize\":(6, 2)})\n",
    "sns.set(style=\"whitegrid\", color_codes=True, rc={\"grid.linewidth\": 0.5, 'grid.color': '.7', \n",
    "                                                     'ytick.major.size': 2,\n",
    "                                                     'axes.edgecolor': '.3', 'axes.linewidth': 1.35,})\n",
    "sns.boxenplot(x = 'bias_info', y = 'sim', data = ratio_sim_unrepaired_df, hue = \"sig_info\", palette= {\"Repaired-sig\":'darkolivegreen', \"Unrepaired-sig\": 'coral'})\n",
    "plt.legend (title = \"\", loc = \"center right\", ncol = 1, frameon = False)\n",
    "sns.despine()\n",
    "plt.ylabel (\"Cosine similarity of\\nconcordant mutation profiles\", fontsize = 10)\n",
    "plt.xlabel (\"\")\n",
    "plt.xticks(fontsize = 10)\n",
    "plt.title(\"Unrepaired FFPEs\")\n",
    "\n",
    "plt.savefig(\"./Figures/FigR_3b.pdf\", bbox_inches = \"tight\", dpi = 300)\n",
    "\n",
    "plt.show()"
   ]
  },
  {
   "cell_type": "markdown",
   "metadata": {},
   "source": [
    "## Repaired FFPE"
   ]
  },
  {
   "cell_type": "markdown",
   "metadata": {},
   "source": [
    "Here we assume there are about ~0.75% of deaminated nonCpG sites that are escaped from chemical treatment for both with-biase and without bias samples.  "
   ]
  },
  {
   "cell_type": "markdown",
   "metadata": {},
   "source": [
    "## With bias"
   ]
  },
  {
   "cell_type": "code",
   "execution_count": 11,
   "metadata": {},
   "outputs": [],
   "source": [
    "simulated_repaired_biased = pd.DataFrame()\n",
    "\n",
    "cs_to_repaired_sig_biased = []\n",
    "cs_to_unrepaired_sig_biased = []\n",
    "\n",
    "concordant_ratios_nonCpG_biased = []\n",
    "concordant_ratios_CpG_biased = []\n",
    "\n",
    "for i in range(100):\n",
    "    sample_id = 's' + str(i)\n",
    "    np.random.seed (i)\n",
    "    concordant_mut_num_nonCpG, total_mut_num_nonCpG, concordant_ratio_nonCpG = simulate_artefacts_with_diff_concordant_ratios(candidate_sites = int(non_CpG_sites_num), \n",
    "                                                                                initial_hits_perc = initial_deaminated_perc, \n",
    "                                                                                seq_chance = np.random.uniform(0.005,0.01), ## escaped from chemical treatment\n",
    "                                                                                rand_seed = i)\n",
    "\n",
    "    concordant_mut_num_CpG, total_mut_num_CpG, concordant_ratio_CpG = simulate_artefacts_with_diff_concordant_ratios(candidate_sites = int(CpG_sites_num), \n",
    "                                                                                initial_hits_perc = initial_deaminated_perc, \n",
    "                                                                               seq_chance = np.random.uniform(0.85,0.95), ## CpG templates are favoured\n",
    "                                                                                #seq_chance = np.random.uniform(0.45,0.55), ## non-CpG templates are favoured                 \n",
    "                                                                                rand_seed = i)\n",
    "\n",
    "    mut_profile_of_given_sample =  np.zeros (96)\n",
    "    mut_profile_of_given_sample [C2T_CpG_ind]= norm_CpG_props_repaired * int(total_mut_num_CpG/2)\n",
    "    mut_profile_of_given_sample [C2T_nonCpG_ind]= norm_nonCpG_props_repaired * int(total_mut_num_nonCpG/2)\n",
    "    simulated_repaired_biased[sample_id] = np.random.poisson(mut_profile_of_given_sample)\n",
    "\n",
    "    concordant_mut_profile = np.zeros (96)\n",
    "    concordant_mut_profile[C2T_CpG_ind] = norm_CpG_props_repaired * int(concordant_mut_num_CpG/2)\n",
    "    concordant_mut_profile[C2T_nonCpG_ind] = norm_nonCpG_props_repaired * int(concordant_mut_num_nonCpG/2)\n",
    "    \n",
    "    cs_to_repaired_sig_biased.append(cosine_similarity(ffpe_sig_repaired.reshape(1,96), concordant_mut_profile.reshape(1,96))[0][0])\n",
    "    cs_to_unrepaired_sig_biased.append(cosine_similarity(ffpe_sig_unrepaired.reshape(1,96), concordant_mut_profile.reshape(1,96))[0][0])\n",
    "    \n",
    "    concordant_ratios_nonCpG_biased.append(concordant_ratio_nonCpG)\n",
    "    concordant_ratios_CpG_biased.append(concordant_ratio_CpG)\n",
    "\n",
    "simulated_repaired_biased_transferred = simulated_repaired_biased.T.apply(lambda row: transfer_sig(\n",
    "                                            from_sig = row,\n",
    "                                            from_opp = np.array (opportunity_TargetCRC), \n",
    "                                            to_opp = wgs_opp), axis = 1)\n",
    "repaired_bias_sig = simulated_repaired_biased_transferred.mean().values"
   ]
  },
  {
   "cell_type": "markdown",
   "metadata": {},
   "source": [
    "## without bias "
   ]
  },
  {
   "cell_type": "code",
   "execution_count": 12,
   "metadata": {},
   "outputs": [],
   "source": [
    "simulated_repaired_unbiased = pd.DataFrame()\n",
    "\n",
    "cs_to_repaired_sig_unbiased = []\n",
    "cs_to_unrepaired_sig_unbiased = []\n",
    "\n",
    "concordant_ratios_nonCpG_unbiased = []\n",
    "concordant_ratios_CpG_unbiased = []\n",
    "\n",
    "for i in range(100):\n",
    "    sample_id = 's' + str(i)\n",
    "    np.random.seed (i)\n",
    "    concordant_mut_num_nonCpG, total_mut_num_nonCpG, concordant_ratio_nonCpG = simulate_artefacts_with_diff_concordant_ratios(candidate_sites = int(non_CpG_sites_num), \n",
    "                                                                                initial_hits_perc = initial_deaminated_perc, \n",
    "                                                                                seq_chance = np.random.uniform(0.005,0.01), ## escaped from chemical treatment\n",
    "                                                                                rand_seed = i)\n",
    "\n",
    "    concordant_mut_num_CpG, total_mut_num_CpG, concordant_ratio_CpG = simulate_artefacts_with_diff_concordant_ratios(candidate_sites = int(CpG_sites_num), \n",
    "                                                                                initial_hits_perc = initial_deaminated_perc, \n",
    "                                                                                seq_chance = np.random.uniform(0.45,0.55), ## non-CpG templates are favoured                 \n",
    "                                                                                rand_seed = i)\n",
    "\n",
    "    mut_profile_of_given_sample =  np.zeros (96)\n",
    "    mut_profile_of_given_sample [C2T_CpG_ind]= norm_CpG_props_repaired * int(total_mut_num_CpG/2)\n",
    "    mut_profile_of_given_sample [C2T_nonCpG_ind]= norm_nonCpG_props_repaired * int(total_mut_num_nonCpG/2)\n",
    "    simulated_repaired_unbiased[sample_id] = np.random.poisson(mut_profile_of_given_sample)\n",
    "\n",
    "    concordant_mut_profile = np.zeros (96)\n",
    "    concordant_mut_profile[C2T_CpG_ind] = norm_CpG_props_repaired * int(concordant_mut_num_CpG/2)\n",
    "    concordant_mut_profile[C2T_nonCpG_ind] = norm_nonCpG_props_repaired * int(concordant_mut_num_nonCpG/2)\n",
    "    \n",
    "    cs_to_repaired_sig_unbiased.append(cosine_similarity(ffpe_sig_repaired.reshape(1,96), concordant_mut_profile.reshape(1,96))[0][0])\n",
    "    cs_to_unrepaired_sig_unbiased.append(cosine_similarity(ffpe_sig_unrepaired.reshape(1,96), concordant_mut_profile.reshape(1,96))[0][0])\n",
    "    \n",
    "    concordant_ratios_nonCpG_unbiased.append(concordant_ratio_nonCpG)\n",
    "    concordant_ratios_CpG_unbiased.append(concordant_ratio_CpG)\n",
    "\n",
    "simulated_repaired_unbiased_transferred = simulated_repaired_unbiased.T.apply(lambda row: transfer_sig(\n",
    "                                            from_sig = row,\n",
    "                                            from_opp = np.array (opportunity_TargetCRC), \n",
    "                                            to_opp = wgs_opp), axis = 1)\n",
    "repaired_unbias_sig = simulated_repaired_unbiased_transferred.mean().values"
   ]
  },
  {
   "cell_type": "markdown",
   "metadata": {},
   "source": [
    "## Visualise the key information for biased and unbiased repaired FFPE samples"
   ]
  },
  {
   "cell_type": "markdown",
   "metadata": {},
   "source": [
    "We did not include this part in our replies. The simulation results matches with what we observed from real data in study 1"
   ]
  },
  {
   "cell_type": "code",
   "execution_count": 13,
   "metadata": {},
   "outputs": [
    {
     "data": {
      "text/html": [
       "<div>\n",
       "<style scoped>\n",
       "    .dataframe tbody tr th:only-of-type {\n",
       "        vertical-align: middle;\n",
       "    }\n",
       "\n",
       "    .dataframe tbody tr th {\n",
       "        vertical-align: top;\n",
       "    }\n",
       "\n",
       "    .dataframe thead th {\n",
       "        text-align: right;\n",
       "    }\n",
       "</style>\n",
       "<table border=\"1\" class=\"dataframe\">\n",
       "  <thead>\n",
       "    <tr style=\"text-align: right;\">\n",
       "      <th></th>\n",
       "      <th></th>\n",
       "      <th>sim</th>\n",
       "      <th>ratio</th>\n",
       "    </tr>\n",
       "    <tr>\n",
       "      <th>bias_info</th>\n",
       "      <th>sig_info</th>\n",
       "      <th></th>\n",
       "      <th></th>\n",
       "    </tr>\n",
       "  </thead>\n",
       "  <tbody>\n",
       "    <tr>\n",
       "      <th rowspan=\"2\" valign=\"top\">With-bias</th>\n",
       "      <th>Repaired-sig</th>\n",
       "      <td>0.951577</td>\n",
       "      <td>0.252949</td>\n",
       "    </tr>\n",
       "    <tr>\n",
       "      <th>Unrepaired-sig</th>\n",
       "      <td>0.091672</td>\n",
       "      <td>0.002230</td>\n",
       "    </tr>\n",
       "    <tr>\n",
       "      <th rowspan=\"2\" valign=\"top\">Without-bias</th>\n",
       "      <th>Repaired-sig</th>\n",
       "      <td>0.951694</td>\n",
       "      <td>0.126588</td>\n",
       "    </tr>\n",
       "    <tr>\n",
       "      <th>Unrepaired-sig</th>\n",
       "      <td>0.092052</td>\n",
       "      <td>0.002737</td>\n",
       "    </tr>\n",
       "  </tbody>\n",
       "</table>\n",
       "</div>"
      ],
      "text/plain": [
       "                                  sim     ratio\n",
       "bias_info    sig_info                          \n",
       "With-bias    Repaired-sig    0.951577  0.252949\n",
       "             Unrepaired-sig  0.091672  0.002230\n",
       "Without-bias Repaired-sig    0.951694  0.126588\n",
       "             Unrepaired-sig  0.092052  0.002737"
      ]
     },
     "execution_count": 13,
     "metadata": {},
     "output_type": "execute_result"
    }
   ],
   "source": [
    "## Record the key information from the simulated data (unrepaired-biased)\n",
    "ratio, sim, bias_info, site_info, sig_info = [], [], [], [], []\n",
    "\n",
    "ratio = concordant_ratios_CpG_biased + concordant_ratios_nonCpG_biased + concordant_ratios_CpG_unbiased + concordant_ratios_nonCpG_unbiased\n",
    "sim = cs_to_repaired_sig_biased + cs_to_unrepaired_sig_biased + cs_to_repaired_sig_unbiased + cs_to_unrepaired_sig_unbiased \n",
    "bias_info = ['With-bias'] * 200 + ['Without-bias'] * 200\n",
    "site_info = ['CpG'] * 100 + [\"nonCpG\"] * 100 + ['CpG'] * 100 + [\"nonCpG\"] * 100\n",
    "sig_info = ['Repaired-sig'] * 100 + ['Unrepaired-sig'] * 100 + ['Repaired-sig'] * 100 + ['Unrepaired-sig'] * 100\n",
    "\n",
    "ratio_sim_repaired_df = pd.DataFrame()\n",
    "ratio_sim_repaired_df['sim'] = sim\n",
    "ratio_sim_repaired_df['ratio'] = ratio\n",
    "ratio_sim_repaired_df['site_info'] = site_info\n",
    "ratio_sim_repaired_df['bias_info'] = bias_info\n",
    "ratio_sim_repaired_df['sig_info'] = sig_info\n",
    "\n",
    "ratio_sim_repaired_df.head()\n",
    "\n",
    "ratio_sim_repaired_df.groupby(['bias_info', 'sig_info']).mean()"
   ]
  },
  {
   "cell_type": "code",
   "execution_count": 14,
   "metadata": {},
   "outputs": [
    {
     "data": {
      "image/png": "[encoded data removed]",
      "text/plain": [
       "<Figure size 432x144 with 1 Axes>"
      ]
     },
     "metadata": {},
     "output_type": "display_data"
    }
   ],
   "source": [
    "sns.set(rc={\"figure.figsize\":(6, 2)})\n",
    "sns.set(style=\"whitegrid\", color_codes=True, rc={\"grid.linewidth\": 0.5, 'grid.color': '.7', \n",
    "                                                     'ytick.major.size': 2,\n",
    "                                                     'axes.edgecolor': '.3', 'axes.linewidth': 1.35,})\n",
    "sns.boxenplot(x = 'bias_info', y = 'ratio', data = ratio_sim_repaired_df, hue = \"site_info\", palette= \"Set1\")\n",
    "plt.legend (title = \"\", ncol = 1, frameon = False)\n",
    "plt.title(\"Repaired FFPEs\")\n",
    "sns.despine()\n",
    "plt.ylabel (\"Concordant ratio\", fontsize = 10)\n",
    "plt.xlabel (\"\")\n",
    "\n",
    "plt.xticks(fontsize = 10)\n",
    "##plt.savefig(\"./Figures/Fig_R3a.pdf\", bbox_inches = \"tight\", dpi = 300)\n",
    "plt.show()"
   ]
  },
  {
   "cell_type": "code",
   "execution_count": 15,
   "metadata": {},
   "outputs": [
    {
     "data": {
      "image/png": "[encoded data removed]",
      "text/plain": [
       "<Figure size 432x144 with 1 Axes>"
      ]
     },
     "metadata": {},
     "output_type": "display_data"
    }
   ],
   "source": [
    "sns.set(rc={\"figure.figsize\":(6, 2)})\n",
    "sns.set(style=\"whitegrid\", color_codes=True, rc={\"grid.linewidth\": 0.5, 'grid.color': '.7', \n",
    "                                                     'ytick.major.size': 2,\n",
    "                                                     'axes.edgecolor': '.3', 'axes.linewidth': 1.35,})\n",
    "sns.boxenplot(x = 'bias_info', y = 'sim', data = ratio_sim_repaired_df, hue = \"sig_info\", palette= {\"Repaired-sig\":'darkolivegreen', \"Unrepaired-sig\": 'coral'})\n",
    "plt.legend (title = \"\", loc = \"center right\", ncol = 1, frameon = False)\n",
    "sns.despine()\n",
    "plt.title (\"Repaired FFPEs\")\n",
    "plt.ylabel (\"Cosine similarity of\\nconcordant mutation profiles\", fontsize = 10)\n",
    "plt.xlabel (\"\")\n",
    "plt.xticks(fontsize = 10)\n",
    "#plt.savefig(\"./Figures/Fig_R3b.pdf\", bbox_inches = \"tight\", dpi = 300)\n",
    "plt.show()"
   ]
  },
  {
   "cell_type": "markdown",
   "metadata": {},
   "source": [
    "# Visualise the derived signatures from biased and unbiased samples in the above simulation"
   ]
  },
  {
   "cell_type": "code",
   "execution_count": 16,
   "metadata": {},
   "outputs": [
    {
     "data": {
      "image/png": "[encoded data removed]",
      "text/plain": [
       "<Figure size 576x208.8 with 1 Axes>"
      ]
     },
     "metadata": {},
     "output_type": "display_data"
    },
    {
     "data": {
      "image/png": "[encoded data removed]",
      "text/plain": [
       "<Figure size 576x208.8 with 1 Axes>"
      ]
     },
     "metadata": {},
     "output_type": "display_data"
    }
   ],
   "source": [
    "col_set = ['deepskyblue','black','red','lightgrey','yellowgreen','pink']\n",
    "col_list = []\n",
    "for i in range (len(col_set)):\n",
    "     col_list += [col_set[i]] * 16\n",
    "channel6 = ['C>A','C>G','C>T','T>A','T>C','T>G']\n",
    "\n",
    "cs_repaired = np.round(cosine_similarity(repaired_unbias_sig.reshape(1,96), repaired_bias_sig.reshape(1,96))[0],3)\n",
    "cs_unrepaired = np.round(cosine_similarity(unrepaired_unbias_sig.reshape(1,96), unrepaired_bias_sig.reshape(1,96))[0],3)\n",
    "for sig1, sig2, sig1_name,sig2_name, cs in zip([unrepaired_bias_sig.copy(),repaired_bias_sig.copy()],\n",
    "                                               [unrepaired_unbias_sig.copy(),repaired_unbias_sig.copy()],\n",
    "                                               [\"Unrepaired sig(biased)\",\"Repaired sig(baised)\"],\n",
    "                                               [ \"Unrepaired sig(unbaised)\", \"Repaired sig(unbiased)\"], \n",
    "                                               [cs_unrepaired[0], cs_repaired[0]]):\n",
    "\n",
    "    sns.set(rc={\"figure.figsize\":(8, 2.9)})\n",
    "    sns.set(style=\"whitegrid\", color_codes=True, rc={\"grid.linewidth\": 0.3, 'grid.color': '.7', \n",
    "                                                     'ytick.major.size': 2,\n",
    "                                                     'axes.edgecolor': '.3', 'axes.linewidth': 1.35,})\n",
    "\n",
    "    plt.bar(np.arange(1,97), sig1, color = col_list, width = 1)\n",
    "    \n",
    "    plt.bar(np.arange(1,97), -sig2, color = col_list, width = 1)\n",
    "        \n",
    "    plt.hlines (0, 1, 97, linestyle='dashed', alpha = 0.3)\n",
    "    \n",
    "    for i in range (33,50):\n",
    "        if sig1[i-1] >0.05  or sig2[i-1] > 0.05:\n",
    "            if sig1[i-1]/sig2[i-1] > 2 or sig2[i-1]/sig1[i-1] > 2:\n",
    "                plt.text( i, sig1[i-1] + 0.01, \"*\", ha = 'center',va='center', size = 12)\n",
    "\n",
    "    plt.margins(x=0.01, y=0.01)\n",
    "    plt.xticks ([])\n",
    "    plt.ylabel(\"Frequency\", color = \"black\", size = 13)\n",
    "    \n",
    "    text_col = [\"w\",\"w\",\"w\",\"black\",\"black\",\"black\"]\n",
    "    for i in range(6):\n",
    "        \n",
    "        left, width = 0 + 1/6 * i + 0.001, 1/6 - 0.002\n",
    "        \n",
    "        bottom, height = 1.003, 0.11\n",
    "        right = left + width\n",
    "        top = bottom + height\n",
    "        ax = plt.gca()\n",
    "        p = plt.Rectangle((left, bottom), width, height, fill=True, color = col_set[i])\n",
    "        p.set_transform(ax.transAxes)\n",
    "        p.set_clip_on(False)\n",
    "        ax.add_patch(p)\n",
    "        \n",
    "        ax.text(0.5 * (left + right), 0.5 * (bottom + top), channel6[i], weight = \"bold\", \n",
    "                color = text_col[i], size = 12,\n",
    "                horizontalalignment='center',verticalalignment='center', transform=ax.transAxes)\n",
    "        \n",
    "    plt.tight_layout()\n",
    "    \n",
    "    if sig1_name == \"Unrepaired sig(biased)\":\n",
    "        plt.ylim (-0.2,0.2)\n",
    "        plt.annotate (sig2_name,(1, -0.08), size = 12 , color = \"black\")\n",
    "        plt.annotate (sig1_name,(1, 0.08), size = 12 , color = \"black\")\n",
    "        plt.annotate (f\"Cosine similarity = {cs}\",(70, 0.03), \n",
    "                      size = 12, color = \"black\")\n",
    "        plt.savefig(\"./Figures/FigR3c.pdf\", bbox_inches = \"tight\", dpi = 300)\n",
    "    else:\n",
    "        plt.ylim (-0.3,0.3)\n",
    "        plt.annotate (sig2_name,(1, -0.2), size = 12 , color = \"black\")\n",
    "        plt.annotate (sig1_name,(1, 0.15), size = 12 , color = \"black\")\n",
    "        plt.annotate (f\"Cosine similarity = {cs}\",(70, 0.07), \n",
    "                      size = 12, color = \"black\")\n",
    "        plt.savefig(\"./Figures/FigR3d.pdf\", bbox_inches = \"tight\", dpi = 300)\n",
    "    \n",
    "    plt.show()"
   ]
  }
 ],
 "metadata": {
  "kernelspec": {
   "display_name": "Python 3",
   "language": "python",
   "name": "python3"
  },
  "language_info": {
   "codemirror_mode": {
    "name": "ipython",
    "version": 3
   },
   "file_extension": ".py",
   "mimetype": "text/x-python",
   "name": "python",
   "nbconvert_exporter": "python",
   "pygments_lexer": "ipython3",
   "version": "3.8.8"
  },
  "toc": {
   "base_numbering": 1,
   "nav_menu": {},
   "number_sections": true,
   "sideBar": true,
   "skip_h1_title": false,
   "title_cell": "Table of Contents",
   "title_sidebar": "Contents",
   "toc_cell": false,
   "toc_position": {},
   "toc_section_display": true,
   "toc_window_display": false
  },
  "varInspector": {
   "cols": {
    "lenName": 16,
    "lenType": 16,
    "lenVar": 40
   },
   "kernels_config": {
    "python": {
     "delete_cmd_postfix": "",
     "delete_cmd_prefix": "del ",
     "library": "var_list.py",
     "varRefreshCmd": "print(var_dic_list())"
    },
    "r": {
     "delete_cmd_postfix": ") ",
     "delete_cmd_prefix": "rm(",
     "library": "var_list.r",
     "varRefreshCmd": "cat(var_dic_list()) "
    }
   },
   "types_to_exclude": [
    "module",
    "function",
    "builtin_function_or_method",
    "instance",
    "_Feature"
   ],
   "window_display": false
  }
 },
 "nbformat": 4,
 "nbformat_minor": 4
}
